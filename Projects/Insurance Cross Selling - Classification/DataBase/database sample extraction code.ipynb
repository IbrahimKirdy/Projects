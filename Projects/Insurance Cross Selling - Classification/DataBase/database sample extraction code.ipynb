{
 "cells": [
  {
   "cell_type": "code",
   "execution_count": 1,
   "metadata": {},
   "outputs": [
    {
     "name": "stdout",
     "output_type": "stream",
     "text": [
      "The first row and 1000 random rows have been saved to 'sample.csv'.\n"
     ]
    }
   ],
   "source": [
    "import pandas as pd  \n",
    "\n",
    "# Load the CSV file  \n",
    "file_path = \"test.csv\"  # Replace with the path to your CSV file  \n",
    "df = pd.read_csv(file_path)  \n",
    "\n",
    "first_row = df.iloc[0]  # Select the first row  \n",
    "\n",
    "random_rows = df.iloc[1:].sample(n=1000, random_state=42) \n",
    "\n",
    "final_df = pd.concat([df.iloc[[0]], random_rows])  \n",
    "\n",
    "final_df.to_csv(\"sample.csv\", index=False)  \n",
    "\n",
    "print(\"The first row and 1000 random rows have been saved to 'sample.csv'.\")"
   ]
  }
 ],
 "metadata": {
  "kernelspec": {
   "display_name": "Python 3",
   "language": "python",
   "name": "python3"
  },
  "language_info": {
   "codemirror_mode": {
    "name": "ipython",
    "version": 3
   },
   "file_extension": ".py",
   "mimetype": "text/x-python",
   "name": "python",
   "nbconvert_exporter": "python",
   "pygments_lexer": "ipython3",
   "version": "3.12.8"
  }
 },
 "nbformat": 4,
 "nbformat_minor": 2
}
